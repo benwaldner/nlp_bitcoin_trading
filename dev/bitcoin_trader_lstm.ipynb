{
 "cells": [
  {
   "cell_type": "markdown",
   "metadata": {},
   "source": [
    "Paper Trading\n",
    "* [Alpaca](https://app.alpaca.markets/signup)\n",
    "* [QuantConnect](https://www.quantconnect.com)"
   ]
  },
  {
   "cell_type": "markdown",
   "metadata": {
    "heading_collapsed": true
   },
   "source": [
    "# Import Libraries"
   ]
  },
  {
   "cell_type": "code",
   "execution_count": 1,
   "metadata": {
    "ExecuteTime": {
     "end_time": "2019-08-24T05:26:53.694266Z",
     "start_time": "2019-08-24T05:26:25.999868Z"
    },
    "hidden": true
   },
   "outputs": [
    {
     "name": "stderr",
     "output_type": "stream",
     "text": [
      "C:\\Users\\matt\\Anaconda3\\envs\\nlp\\lib\\site-packages\\gensim\\utils.py:1197: UserWarning: detected Windows; aliasing chunkize to chunkize_serial\n",
      "  warnings.warn(\"detected Windows; aliasing chunkize to chunkize_serial\")\n"
     ]
    },
    {
     "data": {
      "text/html": [
       "<style>.container { width:90% !important; }</style>"
      ],
      "text/plain": [
       "<IPython.core.display.HTML object>"
      ]
     },
     "metadata": {},
     "output_type": "display_data"
    }
   ],
   "source": [
    "# Web Scraping\n",
    "from bs4 import BeautifulSoup\n",
    "from lxml import html\n",
    "import requests\n",
    "\n",
    "\n",
    "# NLP\n",
    "from sklearn.feature_extraction.text import CountVectorizer,TfidfVectorizer\n",
    "from contractions import CONTRACTION_MAP\n",
    "import nltk\n",
    "from nltk.tokenize.toktok import ToktokTokenizer\n",
    "from nltk.tokenize import word_tokenize\n",
    "# nltk.download('punkt')\n",
    "from nltk.tokenize import MWETokenizer # multi-word expression\n",
    "from nltk.tag import pos_tag\n",
    "# nltk.download('averaged_perceptron_tagger')\n",
    "# nltk.download('tagsets')\n",
    "\n",
    "from gensim import corpora, models, similarities, matutils\n",
    "import spacy\n",
    "#python -m spacy download en_core_web_md\n",
    "import en_core_web_md\n",
    "import langdetect\n",
    "nlp = en_core_web_md.load(parse=True, tag=True, entity=True)\n",
    "tokenizer = ToktokTokenizer()\n",
    "#nltk.download('stopwords')\n",
    "stopword_list = nltk.corpus.stopwords.words('english')\n",
    "stopword_list+=['crypto','Crypto' 'cryptocurrencie', 'cryptocurrencies', 'Cryptocurrencies', \n",
    "                'cryptocurrency','Cryptocurrency', 'btc','Bitcoin','bitcoin','cryptocryptocurrencie']\n",
    "\n",
    "# stopword_list.remove('no')\n",
    "# stopword_list.remove('not')\n",
    "from sklearn.decomposition import NMF\n",
    "from spacy import displacy\n",
    "#!pip install vaderSentiment \n",
    "from vaderSentiment.vaderSentiment import SentimentIntensityAnalyzer\n",
    "from textblob import TextBlob\n",
    "\n",
    "# Tools\n",
    "import string\n",
    "from datetime import date,timedelta,datetime\n",
    "import unicodedata\n",
    "import time\n",
    "import re\n",
    "import os\n",
    "import pandas as pd\n",
    "import numpy as np\n",
    "import pickle\n",
    "import random\n",
    "from tqdm import tqdm, trange,tqdm_notebook\n",
    "from sklearn import preprocessing\n",
    "\n",
    "# Visualization\n",
    "import seaborn as sns\n",
    "import matplotlib.pyplot as plt\n",
    "%matplotlib inline  \n",
    "#pd.reset_option('^display.', silent=True) #Resets all pandas options\n",
    "\n",
    "# Modeling\n",
    "from sklearn.preprocessing import PolynomialFeatures\n",
    "from sklearn.model_selection import RandomizedSearchCV,GridSearchCV\n",
    "from sklearn.linear_model import LogisticRegression\n",
    "from sklearn.pipeline import Pipeline\n",
    "from lightgbm import LGBMRegressor\n",
    "\n",
    "import warnings\n",
    "warnings.filterwarnings(\"ignore\")\n",
    "\n",
    "from IPython.core.display import display, HTML\n",
    "display(HTML(\"<style>.container { width:90% !important; }</style>\"))"
   ]
  },
  {
   "cell_type": "markdown",
   "metadata": {
    "heading_collapsed": true
   },
   "source": [
    "# Functions"
   ]
  },
  {
   "cell_type": "markdown",
   "metadata": {
    "heading_collapsed": true,
    "hidden": true
   },
   "source": [
    "#### Helper Functions"
   ]
  },
  {
   "cell_type": "code",
   "execution_count": 2,
   "metadata": {
    "ExecuteTime": {
     "end_time": "2019-08-25T01:34:00.392175Z",
     "start_time": "2019-08-25T01:34:00.374259Z"
    },
    "hidden": true
   },
   "outputs": [],
   "source": [
    "def display_topics(model, feature_names, no_top_words, topic_names=None):\n",
    "    for ix, topic in enumerate(model.components_):\n",
    "        if not topic_names or not topic_names[ix]:\n",
    "            print(\"\\nTopic \", ix)\n",
    "        else:\n",
    "            print(\"\\nTopic: '\",topic_names[ix],\"'\")\n",
    "        print(\", \".join([feature_names[i]\n",
    "                        for i in topic.argsort()[:-no_top_words - 1:-1]]))\n",
    "\n",
    "\n",
    "# example) do not -> don't. I would -> I'd\n",
    "def expand_contractions(text, contraction_mapping=CONTRACTION_MAP):\n",
    "    \n",
    "    contractions_pattern = re.compile('({})'.format('|'.join(contraction_mapping.keys())), \n",
    "                                      flags=re.IGNORECASE|re.DOTALL)\n",
    "    def expand_match(contraction):\n",
    "        match = contraction.group(0)\n",
    "        first_char = match[0]\n",
    "        expanded_contraction = contraction_mapping.get(match)\\\n",
    "                                if contraction_mapping.get(match)\\\n",
    "                                else contraction_mapping.get(match.lower())                       \n",
    "        expanded_contraction = first_char+expanded_contraction[1:]\n",
    "        return expanded_contraction\n",
    "        \n",
    "    expanded_text = contractions_pattern.sub(expand_match, text)\n",
    "    expanded_text = re.sub(\"'\", \"\", expanded_text)\n",
    "    return expanded_text\n",
    "\n",
    "# standardized into ASCII characters. example) converting é to e\n",
    "def remove_accented_chars(text):\n",
    "    text = unicodedata.normalize('NFKD', text).encode('ascii', 'ignore').decode('utf-8', 'ignore')\n",
    "    return text \n",
    "\n",
    "# Special characters and symbols\n",
    "def remove_special_characters(text, remove_digits=False):\n",
    "    pattern = r'[^a-zA-z0-9\\s]' if not remove_digits else r'[^a-zA-z\\s]'\n",
    "    text = re.sub(pattern, '', text)\n",
    "    return text\n",
    "\n",
    "def lemmatize_text(text):\n",
    "    text = nlp(text)\n",
    "    text = ' '.join([word.lemma_ if word.lemma_ != '-PRON-' else word.text for word in text])\n",
    "    return text\n",
    "\n",
    "\n",
    "def normalize_corpus(corpus, contraction_expansion=True,\n",
    "                     accented_char_removal=True, text_lower_case=True, \n",
    "                     text_lemmatization=True, special_char_removal=True, \n",
    "                     remove_digits=True):\n",
    "    \n",
    "    normalized_corpus = []\n",
    "    # normalize each document in the corpus\n",
    "    for doc in corpus:\n",
    "        # remove accented characters\n",
    "        if accented_char_removal:\n",
    "            doc = remove_accented_chars(doc)\n",
    "        # expand contractions    \n",
    "        if contraction_expansion:\n",
    "            doc = expand_contractions(doc)\n",
    "        # lowercase the text    \n",
    "        if text_lower_case:\n",
    "            doc = doc.lower()\n",
    "        # remove extra newlines\n",
    "        doc = re.sub(r'[\\r|\\n|\\r\\n]+', ' ',doc)\n",
    "        # lemmatize text\n",
    "        if text_lemmatization:\n",
    "            doc = lemmatize_text(doc)\n",
    "        # remove special characters and\\or digits    \n",
    "        if special_char_removal:\n",
    "            # insert spaces between special characters to isolate them    \n",
    "            special_char_pattern = re.compile(r'([{.(-)!}])')\n",
    "            doc = special_char_pattern.sub(\" \\\\1 \", doc)\n",
    "            doc = remove_special_characters(doc, remove_digits=remove_digits)  \n",
    "        # remove extra whitespace\n",
    "        doc = re.sub(' +', ' ', doc)\n",
    "#         # remove stopwords\n",
    "#         if stopword_removal:\n",
    "#             doc = remove_stopwords(doc, is_lower_case=text_lower_case)\n",
    "            \n",
    "        normalized_corpus.append(doc)\n",
    "        \n",
    "    return normalized_corpus"
   ]
  },
  {
   "cell_type": "markdown",
   "metadata": {
    "heading_collapsed": true
   },
   "source": [
    "# Scraping"
   ]
  },
  {
   "cell_type": "markdown",
   "metadata": {
    "heading_collapsed": true,
    "hidden": true
   },
   "source": [
    "#### Google News Scraping Function"
   ]
  },
  {
   "cell_type": "code",
   "execution_count": 3,
   "metadata": {
    "ExecuteTime": {
     "end_time": "2019-08-25T04:54:47.879648Z",
     "start_time": "2019-08-25T04:54:47.790577Z"
    },
    "hidden": true
   },
   "outputs": [],
   "source": [
    "# Load webpage's url and load it into soup\n",
    "def load_soup(url):\n",
    "    user_agent_list = [\n",
    "       #Chrome\n",
    "        'Mozilla/5.0 (Windows NT 10.0; Win64; x64) AppleWebKit/537.36 (KHTML, like Gecko) Chrome/60.0.3112.113 Safari/537.36',\n",
    "        'Mozilla/5.0 (Windows NT 6.1; Win64; x64) AppleWebKit/537.36 (KHTML, like Gecko) Chrome/60.0.3112.90 Safari/537.36',\n",
    "        'Mozilla/5.0 (Windows NT 5.1; Win64; x64) AppleWebKit/537.36 (KHTML, like Gecko) Chrome/60.0.3112.90 Safari/537.36',\n",
    "        'Mozilla/5.0 (Windows NT 6.2; Win64; x64) AppleWebKit/537.36 (KHTML, like Gecko) Chrome/60.0.3112.90 Safari/537.36',\n",
    "        'Mozilla/5.0 (X11; Linux x86_64) AppleWebKit/537.36 (KHTML, like Gecko) Chrome/44.0.2403.157 Safari/537.36',\n",
    "        'Mozilla/5.0 (Windows NT 6.3; Win64; x64) AppleWebKit/537.36 (KHTML, like Gecko) Chrome/60.0.3112.113 Safari/537.36',\n",
    "        'Mozilla/5.0 (Windows NT 10.0; Win64; x64) AppleWebKit/537.36 (KHTML, like Gecko) Chrome/57.0.2987.133 Safari/537.36',\n",
    "        'Mozilla/5.0 (Windows NT 6.1; Win64; x64) AppleWebKit/537.36 (KHTML, like Gecko) Chrome/57.0.2987.133 Safari/537.36',\n",
    "        'Mozilla/5.0 (Windows NT 10.0; Win64; x64) AppleWebKit/537.36 (KHTML, like Gecko) Chrome/55.0.2883.87 Safari/537.36',\n",
    "        'Mozilla/5.0 (Windows NT 6.1; Win64; x64) AppleWebKit/537.36 (KHTML, like Gecko) Chrome/55.0.2883.87 Safari/537.36',\n",
    "         ]\n",
    "    \n",
    "\n",
    "    \n",
    "    headers = {\"User-Agent\":random.choice(user_agent_list)}\n",
    "    response = requests.get(url,headers=headers)\n",
    "    page = response.text\n",
    "    soup = BeautifulSoup(page, \"lxml\")\n",
    "    return soup,response.status_code\n",
    "\n",
    "def scrape_bitcoin_news_google(num_per_page=40):\n",
    "\n",
    "    # Define start and end dates\n",
    "    with open('pickles/df_news_processed.pkl', 'rb') as picklefile: \n",
    "        df_news_processed = pickle.load(picklefile) \n",
    "    start_date = max(df_news_processed['date'])+timedelta(days=1)\n",
    "    end_date = date.today()\n",
    "    \n",
    "    # Create \"pickles\" folder if it's not there\n",
    "    git_folder_location = os.path.abspath(os.path.dirname('bitcoin_trader'))\n",
    "    if 'pickles' not in os.listdir(git_folder_location):\n",
    "        !mkdir 'pickles'\n",
    "\n",
    "    # already scraped (list from what's already saved in the folder)\n",
    "    done_list = list(df_news_processed['date'].unique())\n",
    "    if '.DS_Store' in done_list:\n",
    "        done_list.remove('.DS_Store')\n",
    "        \n",
    "    # Empty lists for DataFrame\n",
    "    publishers = []\n",
    "    titles = []\n",
    "    intros = []\n",
    "    dates = []         \n",
    "        \n",
    "    # Using trange to have a progress bar to gauge scraping time\n",
    "    for i in trange((end_date-start_date).days):    \n",
    "        # Month, day, and year to be embedded into the url\n",
    "        M=start_date.month\n",
    "        D=start_date.day\n",
    "        Y=start_date.year        \n",
    "        \n",
    "        # Load data\n",
    "        base_url = 'https://www.google.com/search?q=cryptocurrency+or+bitcoin&num=40&rlz=1C5CHFA_enUS849US849&biw=573&bih=717&source=lnt&tbs=cdr%3A1%2Ccd_min%3A{}%2F{}%2F{}%2Ccd_max%3A{}%2F{}%2F{}&tbm=nws&num={}'\n",
    "        url= base_url.format(M,D,Y,M,D,Y,num_per_page)\n",
    "        soup,response_code = load_soup(url)\n",
    "        if response_code !=200:\n",
    "            print(\"Blacklisted...?\")\n",
    "            print(start_date)\n",
    "            break\n",
    "        time.sleep(random.randint(15,30)) # Randomely sleep to not get blacklisted\n",
    "\n",
    "        # Append data to list\n",
    "        publishers += [publisher.text for publisher in soup.find_all('div', attrs = {'class': 'pDavDe RGRr8e'})]\n",
    "        titles += [title.text for title in soup.find_all('div', attrs = {'class': 'phYMDf nDgy9d'})]\n",
    "        intros += [intro.text for intro in soup.find_all('div', attrs = {'class': 'eYN3rb'})]\n",
    "        dates += [start_date]*len([intro.text for intro in soup.find_all('div', attrs = {'class': 'eYN3rb'})])\n",
    "\n",
    "        # Move onto next day\n",
    "        start_date+=timedelta(days=1)\n",
    "        \n",
    "    # Turn data into DataFrame\n",
    "    df = pd.DataFrame({'date':dates,'publisher':publishers,'title':titles,'intro':intros})\n",
    "\n",
    "\n",
    "\n",
    "    # Combine title & intro and Remove '\\n' from corpus\n",
    "    df['title_intro'] = (df['title']+'. '+df['intro']).apply(lambda x : x.replace('\\n',''))\n",
    "\n",
    "    # Detect language\n",
    "    df['language'] = df['title_intro'].apply(lambda x : langdetect.detect(x)).copy()\n",
    "    df = df[df['language']=='en']\n",
    "    df.reset_index(drop=True,inplace=True)\n",
    "\n",
    "    # Apply various NLP processes in 'normalize_corpus function'\n",
    "    df['title_intro_clean']=normalize_corpus(df['title_intro'])\n",
    "\n",
    "    # Replace stock specific terms for sentiment analysis\n",
    "    pos_list = ['rally', 'bounce', 'bullish', 'bull']\n",
    "    neg_list = ['bearish','bear','dip']\n",
    "\n",
    "    # Vader Sentiment Polarity\n",
    "    analyser = SentimentIntensityAnalyzer()\n",
    "    scores_vader =[]\n",
    "    scores_txtblob =[]\n",
    "    for article in df['title_intro_clean']:\n",
    "        for word in pos_list:\n",
    "            article=article.replace(word,'good')\n",
    "        for word in neg_list:\n",
    "            article=article.replace(word,'bad')\n",
    "        scores_vader.append(analyser.polarity_scores(article)['compound'])\n",
    "        scores_txtblob.append(np.round(TextBlob(article).sentiment.polarity,4)) \n",
    "    df['final_sentiment'] = (np.array(scores_vader)+np.array(scores_txtblob))/2\n",
    "\n",
    "    # Concat processed df and df_news_processed\n",
    "    df_news_processed = pd.concat([df_news_processed,df],ignore_index=True,axis=0)\n",
    "    df_news_processed.sort_values(by=['date'],inplace=True)\n",
    "    df_news_processed.drop_duplicates(inplace=True)\n",
    "    df_news_processed.reset_index(drop=True,inplace=True)\n",
    "\n",
    "    with open('pickles/df_news_processed.pkl','wb') as picklefile:\n",
    "        pickle.dump(df_news_processed,picklefile) \n",
    "    \n",
    "    return df_news_processed\n",
    "# Scrape bitcoin news data\n",
    "def scrape_bitcoin_price(df):\n",
    "    \n",
    "    start_date = min(df['date'])\n",
    "    start_date = start_date.strftime('%Y')+start_date.strftime('%m')+start_date.strftime('%d')\n",
    "    end_date = max(df['date'])\n",
    "    end_date = end_date.strftime('%Y')+end_date.strftime('%m')+end_date.strftime('%d')\n",
    "    # Create \"price_data\" folder if it's not there\n",
    "    git_folder_location = os.path.abspath(os.path.dirname('bitcoin_trader'))\n",
    "#     if 'pickles' not in os.listdir(git_folder_location):\n",
    "#         !mkdir pickles\n",
    "\n",
    "\n",
    "    # Load data\n",
    "    url = 'https://coinmarketcap.com/currencies/bitcoin/historical-data/?start={}&end={}'.format(start_date,end_date)\n",
    "    soup,response_code = load_soup(url)\n",
    "    # Check if data was loaded successfully\n",
    "    if response_code !=200:\n",
    "        print(\"Blacklisted...?\")\n",
    "\n",
    "    data = []\n",
    "    # Find all table elements\n",
    "    table = soup.find_all('tr', attrs = {'class': 'text-right'})\n",
    "    for row in table:\n",
    "        data.append(row.text.split('\\n')[1:-1])\n",
    "\n",
    "    # Create dataframe and convert columns to right data types\n",
    "    df_price = pd.DataFrame(data,columns=['date','open','high','low','close','volume','market_cap'])\n",
    "    df_price['date'] = df_price['date'].astype('datetime64[ns]') \n",
    "    df_price['open'] = df_price['open'].astype(float) \n",
    "    df_price['high'] = df_price['high'].astype(float) \n",
    "    df_price['low'] = df_price['low'].astype(float) \n",
    "    df_price['close'] = df_price['close'].astype(float) \n",
    "    df_price['volume'] = df_price['volume'].str.replace(',', '').astype(float)\n",
    "    df_price['market_cap'] = df_price['market_cap'].str.replace(',', '').astype(float)\n",
    "    df_price.sort_values(by=['date'],inplace=True)\n",
    "    df_price.reset_index(drop=True,inplace=True)\n",
    "    \n",
    "    # get daily sentiment score by getting mean of sentiments & concat it with bitcoin price data\n",
    "    df_daily = df.groupby(['date'], as_index=False).mean().copy()\n",
    "    #print(df_daily)\n",
    "    df_daily = pd.concat([df_daily,df_price[['open', 'high', 'low', 'close', 'volume', 'market_cap']]],axis=1)\n",
    "\n",
    "    # Generate More Features\n",
    "    df_daily['percent_change_volume'] = (df_daily['volume'].shift(1)-df_daily['volume'])/df_daily['volume'].shift(1)\n",
    "    df_daily['percent_change_daily_open'] = (df_daily['open'].shift(1)-df_daily['open'])/df_daily['open'].shift(1)\n",
    "    df_daily['percent_change_wkly_open'] = (df_daily['open'].rolling(7).mean().shift(1)-df_daily['open'].rolling(7).mean())/df_daily['open'].rolling(7).mean().shift(1)\n",
    "    df_daily['percent_change_monthly_open'] = (df_daily['open'].rolling(28).mean().shift(1)-df_daily['open'].rolling(28).mean())/df_daily['open'].rolling(28).mean().shift(1)\n",
    "    df_daily['percent_change_daily_close'] = (df_daily['close'].shift(1)-df_daily['close'])/df_daily['close'].shift(1)\n",
    "    df_daily['percent_change_wkly_close'] = (df_daily['close'].rolling(7).mean().shift(1)-df_daily['close'].rolling(7).mean())/df_daily['close'].rolling(7).mean().shift(1)\n",
    "    df_daily['daily_sentiment_change'] = (df_daily['final_sentiment'].shift(1)-df_daily['final_sentiment'])/df_daily['final_sentiment'].shift(1)\n",
    "    df_daily['wkly_sentiment_change'] = (df_daily['final_sentiment'].rolling(7).mean().shift(1)-df_daily['final_sentiment'].rolling(7).mean())/df_daily['final_sentiment'].rolling(7).mean().shift(1)\n",
    "    df_daily['2wk_sentiment_change'] = (df_daily['final_sentiment'].rolling(14).mean().shift(1)-df_daily['final_sentiment'].rolling(14).mean())/df_daily['final_sentiment'].rolling(14).mean().shift(1)\n",
    "    df_daily['3wk_sentiment_change'] = (df_daily['final_sentiment'].rolling(21).mean().shift(1)-df_daily['final_sentiment'].rolling(21).mean())/df_daily['final_sentiment'].rolling(21).mean().shift(1)\n",
    "    df_daily['4wk_sentiment_change'] = (df_daily['final_sentiment'].rolling(28).mean().shift(1)-df_daily['final_sentiment'].rolling(28).mean())/df_daily['final_sentiment'].rolling(28).mean().shift(1)\n",
    "    df_daily['target_daily'] = df_daily['percent_change_daily_close'].shift(-1)\n",
    "    df_daily.dropna(inplace=True)\n",
    "    df_daily.reset_index(drop=True,inplace=True)\n",
    "\n",
    "    # Pickle df_daily\n",
    "    with open('pickles/df_daily.pkl','wb') as picklefile:\n",
    "        pickle.dump(df_daily,picklefile)\n",
    "        \n",
    "    return df_daily"
   ]
  },
  {
   "cell_type": "markdown",
   "metadata": {
    "hidden": true
   },
   "source": [
    "#### One Work Flow"
   ]
  },
  {
   "cell_type": "code",
   "execution_count": 4,
   "metadata": {
    "ExecuteTime": {
     "end_time": "2019-08-25T05:34:24.181252Z",
     "start_time": "2019-08-25T05:34:22.504862Z"
    },
    "hidden": true
   },
   "outputs": [
    {
     "name": "stderr",
     "output_type": "stream",
     "text": [
      "0it [00:00, ?it/s]\n"
     ]
    }
   ],
   "source": [
    "df_news_processed = scrape_bitcoin_news_google()\n",
    "# with open('df_news_processed.pkl','wb') as picklefile:\n",
    "#     pickle.dump(df_news_processed,picklefile)\n",
    "# with open('df_news_processed.pkl','rb') as picklefile:\n",
    "#     df_news_processed = pickle.load(picklefile)\n",
    "df_daily = scrape_bitcoin_price(df_news_processed)\n",
    "# # Load df_news_clean\n",
    "# with open('pickles/df_daily.pkl', 'rb') as picklefile: \n",
    "#     df_daily = pickle.load(picklefile)\n",
    "    "
   ]
  },
  {
   "cell_type": "code",
   "execution_count": 167,
   "metadata": {
    "hidden": true
   },
   "outputs": [],
   "source": [
    "# # Add LDA Features \n",
    "\n",
    "# from gensim.corpora import Dictionary\n",
    "# dic = Dictionary([df_news_processed['title_intro_clean']])\n",
    "# vec_bows=[]\n",
    "# for ix,item in enumerate(corpus):\n",
    "#     vec_bows.append(item)\n",
    "\n",
    "# vec_lda_topics=[lda[vec_bow] for vec_bow in vec_bows]\n",
    "\n",
    "# lda_vector = []\n",
    "# for id,vec_lda_topic in enumerate(vec_lda_topics):\n",
    "#     lda_vector.append(vec_lda_topic)\n",
    "    \n",
    "# num_topic = 13\n",
    "# lda_topic_vectors = []\n",
    "# for vector in lda_vector:\n",
    "#     empty_dict = {x:0 for x in range(num_topic)}\n",
    "#     for topic in vector:            \n",
    "#         empty_dict[topic[0]]=topic[1]\n",
    "#     lda_topic_vectors.append(list(empty_dict.values()))\n",
    "    \n",
    "# # Create DF of lda topic vectors and turn it groupby date\n",
    "# df_lda = pd.DataFrame(lda_topic_vectors)\n",
    "# df_lda['date'] = df_news_processed['date']\n",
    "# df_lda_daily = df_lda.groupby(by=['date'],as_index=False,).mean()\n",
    "\n",
    "# # Merge lda vector to main dataframe\n",
    "# df_daily = df_daily.merge(df_lda_daily, left_on='date', right_on='date')"
   ]
  },
  {
   "cell_type": "markdown",
   "metadata": {
    "heading_collapsed": true
   },
   "source": [
    "# Topic Modeling"
   ]
  },
  {
   "cell_type": "markdown",
   "metadata": {
    "hidden": true
   },
   "source": [
    "#### Tf-idf & LDA <- Use This"
   ]
  },
  {
   "cell_type": "markdown",
   "metadata": {
    "hidden": true
   },
   "source": [
    "###### Model"
   ]
  },
  {
   "cell_type": "code",
   "execution_count": 654,
   "metadata": {
    "ExecuteTime": {
     "end_time": "2019-08-25T05:34:40.705611Z",
     "start_time": "2019-08-25T05:34:40.697954Z"
    },
    "hidden": true
   },
   "outputs": [],
   "source": [
    "# new TF-IDF Vectorizer\n",
    "cv_tfidf = TfidfVectorizer(stop_words=stopword_list,max_df=0.08,min_df=0.004)\n",
    "# cv_tfidf = TfidfVectorizer(stop_words=stopword_list,max_df=0.6,min_df=0.005,ngram_range=(1, 2))\n",
    "doc_word = cv_tfidf.fit_transform(df_news_processed['title_intro_clean'])\n",
    "\n",
    "print(doc_word.shape)\n",
    "\n",
    "# Convert sparse matrix of counts to a gensim corpus\n",
    "corpus = matutils.Sparse2Corpus(doc_word.transpose())\n",
    "\n",
    "# We need to save a mapping (dict) of row id to word (token) for later use by gensim:\n",
    "id2word = dict((v, k) for k, v in cv_tfidf.vocabulary_.items())\n",
    "\n",
    "# Create lda model (equivalent to \"fit\" in sklearn)\n",
    "lda = models.LdaMulticore(corpus=corpus, num_topics=13, id2word=id2word, passes=5, workers=1)\n",
    "\n",
    "# Transform the docs from the word space to the topic space (like \"transform\" in sklearn)\n",
    "lda_corpus = lda[corpus]\n",
    "\n",
    "# Store the documents' topic vectors in a list so we can take a peak\n",
    "lda_docs = [doc for doc in lda_corpus]\n",
    "\n",
    "# View Topic Distribution\n",
    "doc_cluster = [sorted(doc,key=lambda row:row[1])[::-1][0][0] for doc in lda_docs]\n",
    "# sns.barplot(x=pd.Series(doc_cluster).value_counts().keys(),y=pd.Series(doc_cluster).value_counts().values);\n",
    "\n",
    "# # Check out the document vectors in the topic space for the first 5 documents\n",
    "# lda_docs[:5]\n",
    "# lda.print_topics()\n",
    "\n",
    "# #Save Trained Model\n",
    "# with open('lda.pkl', 'wb') as picklefile:\n",
    "#     pickle.dump(lda, picklefile)   "
   ]
  },
  {
   "cell_type": "markdown",
   "metadata": {
    "hidden": true
   },
   "source": [
    "##### Identify Topics"
   ]
  },
  {
   "cell_type": "code",
   "execution_count": 643,
   "metadata": {
    "ExecuteTime": {
     "end_time": "2019-08-25T05:27:41.381443Z",
     "start_time": "2019-08-25T05:27:41.376038Z"
    },
    "hidden": true
   },
   "outputs": [],
   "source": [
    "topic_mapping={\n",
    "                0:'Cryptocurrency Mining',\n",
    "                1:'Tax Related',\n",
    "                2:'Technology',\n",
    "                3:'Binance - Biggest Crypto Trading Platform',\n",
    "                4:'Market Analysis',\n",
    "                5:'International - China and India',\n",
    "                6:'Hackers/Stealing'  ,\n",
    "                7:'Venezuela and Cryptocurrency', #Venezuela has hyperinflation with national currency. People ruf off to cryptos\n",
    "                8:'Market',\n",
    "                9:'Different Cryptocurrencies',\n",
    "                10:'Satoshi Nakamoto',\n",
    "                11:'Facebook',\n",
    "                12:'Regulations'}"
   ]
  },
  {
   "cell_type": "markdown",
   "metadata": {
    "hidden": true
   },
   "source": [
    "##### Update df_news_clean dataframe with classified topics and pickle it"
   ]
  },
  {
   "cell_type": "code",
   "execution_count": 648,
   "metadata": {
    "ExecuteTime": {
     "end_time": "2019-08-25T05:29:58.025044Z",
     "start_time": "2019-08-25T05:29:57.965008Z"
    },
    "hidden": true
   },
   "outputs": [
    {
     "ename": "NameError",
     "evalue": "name 'vec_topics' is not defined",
     "output_type": "error",
     "traceback": [
      "\u001b[0;31m-------------------------------------------------------------------\u001b[0m",
      "\u001b[0;31mNameError\u001b[0m                         Traceback (most recent call last)",
      "\u001b[0;32m<ipython-input-648-e847ba81036b>\u001b[0m in \u001b[0;36m<module>\u001b[0;34m\u001b[0m\n\u001b[1;32m      1\u001b[0m \u001b[0mdf_topics\u001b[0m \u001b[0;34m=\u001b[0m \u001b[0;34m[\u001b[0m\u001b[0;34m]\u001b[0m\u001b[0;34m\u001b[0m\u001b[0;34m\u001b[0m\u001b[0m\n\u001b[0;32m----> 2\u001b[0;31m \u001b[0;32mfor\u001b[0m \u001b[0mvec\u001b[0m \u001b[0;32min\u001b[0m \u001b[0mvec_topics\u001b[0m\u001b[0;34m:\u001b[0m\u001b[0;34m\u001b[0m\u001b[0;34m\u001b[0m\u001b[0m\n\u001b[0m\u001b[1;32m      3\u001b[0m     \u001b[0msorted_x\u001b[0m \u001b[0;34m=\u001b[0m \u001b[0msorted\u001b[0m\u001b[0;34m(\u001b[0m\u001b[0mvec\u001b[0m\u001b[0;34m,\u001b[0m \u001b[0mkey\u001b[0m\u001b[0;34m=\u001b[0m\u001b[0moperator\u001b[0m\u001b[0;34m.\u001b[0m\u001b[0mitemgetter\u001b[0m\u001b[0;34m(\u001b[0m\u001b[0;36m1\u001b[0m\u001b[0;34m)\u001b[0m\u001b[0;34m)\u001b[0m\u001b[0;34m\u001b[0m\u001b[0;34m\u001b[0m\u001b[0m\n\u001b[1;32m      4\u001b[0m     \u001b[0msorted_x\u001b[0m\u001b[0;34m.\u001b[0m\u001b[0mreverse\u001b[0m\u001b[0;34m(\u001b[0m\u001b[0;34m)\u001b[0m\u001b[0;34m\u001b[0m\u001b[0;34m\u001b[0m\u001b[0m\n\u001b[1;32m      5\u001b[0m     \u001b[0mdf_topics\u001b[0m\u001b[0;34m.\u001b[0m\u001b[0mappend\u001b[0m\u001b[0;34m(\u001b[0m\u001b[0mtopic_mapping\u001b[0m\u001b[0;34m[\u001b[0m\u001b[0msorted_x\u001b[0m\u001b[0;34m[\u001b[0m\u001b[0;36m0\u001b[0m\u001b[0;34m]\u001b[0m\u001b[0;34m[\u001b[0m\u001b[0;36m0\u001b[0m\u001b[0;34m]\u001b[0m\u001b[0;34m]\u001b[0m\u001b[0;34m)\u001b[0m\u001b[0;34m\u001b[0m\u001b[0;34m\u001b[0m\u001b[0m\n",
      "\u001b[0;31mNameError\u001b[0m: name 'vec_topics' is not defined"
     ]
    }
   ],
   "source": [
    "df_topics = []\n",
    "for vec in vec_topics:\n",
    "    sorted_x = sorted(vec, key=operator.itemgetter(1))\n",
    "    sorted_x.reverse()\n",
    "    df_topics.append(topic_mapping[sorted_x[0][0]])\n",
    "with open('df_news_clean_topic.pkl','wb') as picklefile:\n",
    "    pickle.dump(df_news_clean,picklefile)"
   ]
  },
  {
   "cell_type": "markdown",
   "metadata": {},
   "source": [
    "# Sentiment Analysis"
   ]
  },
  {
   "cell_type": "markdown",
   "metadata": {},
   "source": [
    "#### Functions Threshold Finding and Graphing Profits"
   ]
  },
  {
   "cell_type": "code",
   "execution_count": 5,
   "metadata": {
    "ExecuteTime": {
     "end_time": "2019-08-25T06:08:03.444041Z",
     "start_time": "2019-08-25T06:08:03.364375Z"
    }
   },
   "outputs": [],
   "source": [
    "def best_threshold2(df,min_threshold,max_threshold,step,min_date,max_date):\n",
    "    \n",
    "    # Add all final profit later on to these empty lists\n",
    "    thresholds,senti_change_daily,senti_change_weekly,senti_change_2wk,senti_change_monthly = [],[],[],[],[]\n",
    "    threshold_list = np.arange(min_threshold,max_threshold,step)\n",
    "    for i in range(len(threshold_list)):\n",
    "        positive_sentiment_threshold = threshold_list[i]\n",
    "\n",
    "\n",
    "        # Mask to limit daterange for searching best threshhold\n",
    "        mask = ((df['date']>min_date)&(df['date']<max_date))\n",
    "        df = df[mask].copy()\n",
    "\n",
    "        df['compound_change_buy_sell_daily'] = df['daily_sentiment_change'].apply(lambda x: 1 if x>positive_sentiment_threshold else 0).copy()\n",
    "        df['compound_change_profit_daily'] = (df['compound_change_buy_sell_daily']*100*df['target_daily']).copy()        \n",
    "        \n",
    "        df['compound_change_buy_sell_wkly'] = df['wkly_sentiment_change'].apply(lambda x: 1 if x>positive_sentiment_threshold else 0).copy()\n",
    "        df['compound_change_profit_wkly'] = (df['compound_change_buy_sell_wkly']*100*df['target_daily']).copy()\n",
    "\n",
    "        df['compound_change_buy_sell_2wk'] = df['2wk_sentiment_change'].apply(lambda x: 1 if x>positive_sentiment_threshold else 0).copy()\n",
    "        df['compound_change_profit_2wk'] = (df['compound_change_buy_sell_2wk']*100*df['target_daily']).copy()\n",
    "\n",
    "        df['compound_change_buy_sell_4wk'] = df['4wk_sentiment_change'].apply(lambda x: 1 if x>positive_sentiment_threshold else 0).copy()\n",
    "        df['compound_change_profit_monthly'] = (df['compound_change_buy_sell_4wk']*100*df['target_daily']).copy()\n",
    "\n",
    "        # Drop NAs\n",
    "        df.dropna(inplace=True)\n",
    "\n",
    "        # Get Cumulative Profits\n",
    "        compound_change_profit_daily = list(df['compound_change_profit_daily'])\n",
    "        compound_change_profit_wkly = list(df['compound_change_profit_wkly'])\n",
    "        compound_change_profit_2wk = list(df['compound_change_profit_2wk'])\n",
    "        compound_change_profit_monthly = list(df['compound_change_profit_monthly'])\n",
    "\n",
    "        for i in range(1,len(compound_change_profit_daily)):\n",
    "            compound_change_profit_daily[i] = compound_change_profit_daily[i]+compound_change_profit_daily[i-1] \n",
    "        for i in range(1,len(compound_change_profit_wkly)):\n",
    "            compound_change_profit_wkly[i] = compound_change_profit_wkly[i]+compound_change_profit_wkly[i-1]            \n",
    "        for i in range(1,len(compound_change_profit_2wk)):\n",
    "            compound_change_profit_2wk[i] = compound_change_profit_2wk[i]+compound_change_profit_2wk[i-1]  \n",
    "        for i in range(1,len(compound_change_profit_monthly)):\n",
    "            compound_change_profit_monthly[i] = compound_change_profit_monthly[i]+compound_change_profit_monthly[i-1] \n",
    "\n",
    "        thresholds.append(positive_sentiment_threshold)\n",
    "        senti_change_daily.append(compound_change_profit_daily[-1])\n",
    "        senti_change_weekly.append(compound_change_profit_wkly[-1])\n",
    "        senti_change_2wk.append(compound_change_profit_2wk[-1])\n",
    "        senti_change_monthly.append(compound_change_profit_monthly[-1])\n",
    "    return thresholds,senti_change_daily,senti_change_weekly,senti_change_2wk,senti_change_monthly\n",
    "# Get profit based on model's predictions. Punish it if it predicted to buy but actually it was a loss. Else, no action = profit = 0.\n",
    "def model_profit_graph(df,min_date,max_date,max_max_date,threshold,graph_model_T_F,model_output):\n",
    "    \n",
    "    if threshold=='dynamic':\n",
    "        # Get Cumulative Profit for Generic Models       \n",
    "        thresholds,senti_change_daily,senti_change_weekly,senti_change_2wk,senti_change_monthly = best_threshold2(df,0,0.3,0.002,min_date,max_date)\n",
    "        best_threshold_daily = thresholds[np.argmax(senti_change_daily)]\n",
    "        best_threshold_weekly = thresholds[np.argmax(senti_change_weekly)]\n",
    "        best_threshold_biweekly = thresholds[np.argmax(senti_change_2wk)]\n",
    "        best_threshold_monthly = thresholds[np.argmax(senti_change_monthly)]\n",
    "\n",
    "        mask = ((df['date']>max_date)&(df['date']<max_max_date))\n",
    "        df = df[mask]\n",
    "        df['daily_buy_sell'] = df['wkly_sentiment_change'].apply(lambda x: 1 if x>best_threshold_daily else 0).copy()\n",
    "        df['daily_profit'] = (df['daily_buy_sell']*100*df['target_daily']).copy()\n",
    "        df['weekly_buy_sell'] = df['wkly_sentiment_change'].apply(lambda x: 1 if x>best_threshold_weekly else 0).copy()\n",
    "        df['weekly_profit'] = (df['weekly_buy_sell']*100*df['target_daily']).copy()\n",
    "        df['biweekly_buy_sell'] = df['2wk_sentiment_change'].apply(lambda x: 1 if x>best_threshold_biweekly else 0).copy()\n",
    "        df['biweekly_profit'] = (df['biweekly_buy_sell']*100*df['target_daily']).copy()\n",
    "        df['monthly_buy_sell'] = df['4wk_sentiment_change'].apply(lambda x: 1 if x>best_threshold_monthly else 0).copy()\n",
    "        df['monthly_profit'] = (df['monthly_buy_sell']*100*df['target_daily']).copy()\n",
    "        df.dropna(inplace=True)\n",
    "    else :\n",
    "        # Get Cumulative Profit for Generic Models       \n",
    "        best_threshold_daily = threshold\n",
    "        best_threshold_weekly = threshold\n",
    "        best_threshold_biweekly = threshold\n",
    "        best_threshold_monthly = threshold\n",
    "\n",
    "        \n",
    "        mask = ((df['date']>max_date)&(df['date']<max_max_date))\n",
    "        df = df[mask]\n",
    "        df['daily_buy_sell'] = df['wkly_sentiment_change'].apply(lambda x: 1 if x>best_threshold_daily else 0).copy()\n",
    "        df['daily_profit'] = (df['daily_buy_sell']*100*df['target_daily']).copy()\n",
    "        df['weekly_buy_sell'] = df['wkly_sentiment_change'].apply(lambda x: 1 if x>best_threshold_weekly else 0).copy()\n",
    "        df['weekly_profit'] = (df['weekly_buy_sell']*100*df['target_daily']).copy()\n",
    "        df['biweekly_buy_sell'] = df['2wk_sentiment_change'].apply(lambda x: 1 if x>best_threshold_biweekly else 0).copy()\n",
    "        df['biweekly_profit'] = (df['biweekly_buy_sell']*100*df['target_daily']).copy()\n",
    "        df['monthly_buy_sell'] = df['4wk_sentiment_change'].apply(lambda x: 1 if x>best_threshold_monthly else 0).copy()\n",
    "        df['monthly_profit'] = (df['monthly_buy_sell']*100*df['target_daily']).copy()        \n",
    "\n",
    "        \n",
    "    daily_profit = list(df['daily_profit'])\n",
    "    for i in range(1,len(daily_profit)):\n",
    "        daily_profit[i] = daily_profit[i]+daily_profit[i-1] \n",
    "    weekly_profit = list(df['weekly_profit'])\n",
    "    for i in range(1,len(weekly_profit)):\n",
    "        weekly_profit[i] = weekly_profit[i]+weekly_profit[i-1]        \n",
    "    biweekly_profit = list(df['biweekly_profit'])\n",
    "    for i in range(1,len(biweekly_profit)):\n",
    "        biweekly_profit[i] = biweekly_profit[i]+biweekly_profit[i-1]        \n",
    "    monthly_profit = list(df['monthly_profit'])\n",
    "    for i in range(1,len(monthly_profit)):\n",
    "        monthly_profit[i] = monthly_profit[i]+monthly_profit[i-1]\n",
    "\n",
    "        \n",
    "            \n",
    "    # Get ideal profit for the same day if you bought $100 worth of bitcoin in one day and sold it exactly day after\n",
    "    df['target_daily_profit'] = df['target_daily'].apply(lambda x: 100*x if x>0 else 0)  \n",
    "    # Gain cumulative profit\n",
    "    target_profit = list(df['target_daily_profit'])\n",
    "    for i in range(1,len(target_profit)):\n",
    "        target_profit[i] = (target_profit[i]+target_profit[i-1])\n",
    "    plt.figure(figsize=(15,8))  \n",
    "    sns.lineplot(x=df['date'],y=target_profit)  \n",
    "    if graph_model_T_F==True:        \n",
    "        # Get Cumulative Profit for LightGBM\n",
    "        df['pred'] = model_output   \n",
    "        pred_profit = []\n",
    "        for i in range(len(df['pred'])):\n",
    "            if (df['pred'].iloc[i]>0):\n",
    "                pred_profit.append(df['target_daily'].iloc[i]*100)\n",
    "            else:\n",
    "                pred_profit.append(0) \n",
    "        \n",
    "        target_profit = list(df['target_daily_profit'])\n",
    "        for i in range(1,len(target_profit)):\n",
    "            target_profit[i] = (target_profit[i]+target_profit[i-1])\n",
    "            pred_profit[i] = (pred_profit[i]+pred_profit[i-1])       \n",
    "        \n",
    "        sns.lineplot(x=df['date'],y=pred_profit)\n",
    "#    print(\"Best Case : ${}\".format(np.round(target_profit[-1],2)) )  \n",
    "#     if graph_model_T_F==True: \n",
    "#         print(\"Model Profit : ${} ({}%)\".format(np.round(pred_profit[-1],2), np.round(pred_profit[-1]/target_profit[-1]*100,2)  ))\n",
    "#     print(\"Daily Profit : ${} ({}%)\".format(np.round(daily_profit[-1],2), np.round(daily_profit[-1]/target_profit[-1]*100,2)  ))\n",
    "#     print(\"Weekly Profit : ${} ({}%)\".format(np.round(weekly_profit[-1],2), np.round(weekly_profit[-1]/target_profit[-1]*100,2)  ))\n",
    "#     print(\"Biweekly Profit : ${} ({}%)\".format(np.round(biweekly_profit[-1],2), np.round(biweekly_profit[-1]/target_profit[-1]*100,2)  ))\n",
    "#     print(\"Monthly Profit : ${} ({}%)\".format(np.round(monthly_profit[-1],2), np.round(monthly_profit[-1]/target_profit[-1]*100,2)  ))\n",
    "     \n",
    "    # Plot cumulative profit\n",
    "\n",
    "    sns.lineplot(x=df['date'],y=daily_profit)\n",
    "    sns.lineplot(x=df['date'],y=weekly_profit)\n",
    "    sns.lineplot(x=df['date'],y=biweekly_profit)\n",
    "    sns.lineplot(x=df['date'],y=monthly_profit)\n",
    "   \n",
    "    plt.axhline(y=0,color='r',linestyle ='-.' )  #vertical line. Linestype : ['-', '--', '-.', ':', '',]\n",
    "\n",
    "    plt.xlabel('Date')\n",
    "    plt.xticks(rotation=45)\n",
    "    plt.ylabel(\"Profit ($)\")\n",
    "    plt.title('Cumulative Profit')\n",
    "    if graph_model_T_F==True:\n",
    "        plt.legend([ 'Actual - ${}'.format(np.round(target_profit[-1],2)),\n",
    "                     'Trading Bot - ${} ({}%)'.format(np.round(pred_profit[-1],2), np.round(pred_profit[-1]/target_profit[-1]*100,2)),\n",
    "                     'Daily Sentiment MA ({})- ${} ({}%)'.format(np.round(best_threshold_daily,4),np.round(daily_profit[-1],2), np.round(daily_profit[-1]/target_profit[-1]*100,2)),\n",
    "                     'Weekly Sentiment MA ({})- ${} ({}%)'.format(np.round(best_threshold_weekly,4),np.round(weekly_profit[-1],2), np.round(weekly_profit[-1]/target_profit[-1]*100,2)  ),\n",
    "                     'Bi-weekly Sentiment MA ({})- ${} ({}%)'.format(np.round(best_threshold_biweekly,4),np.round(biweekly_profit[-1],2), np.round(biweekly_profit[-1]/target_profit[-1]*100,2)  ),\n",
    "                     'Monthly Sentiment MA ({})- ${} ({}%)'.format(np.round(best_threshold_monthly,4),np.round(monthly_profit[-1],2), np.round(monthly_profit[-1]/target_profit[-1]*100,2)   )])\n",
    "    else:plt.legend(['Actual - ${}'.format(np.round(target_profit[-1],2)),\n",
    "                     'Daily Sentiment MA ({})- ${} ({}%)'.format(np.round(best_threshold_daily,4),np.round(daily_profit[-1],2), np.round(daily_profit[-1]/target_profit[-1]*100,2)  ),\n",
    "                     'Weekly Sentiment MA ({})- ${} ({}%)'.format(np.round(best_threshold_weekly,4),np.round(weekly_profit[-1],2), np.round(weekly_profit[-1]/target_profit[-1]*100,2)  ),\n",
    "                     'Bi-weekly Sentiment MA ({})- ${} ({}%)'.format(np.round(best_threshold_biweekly,4),np.round(biweekly_profit[-1],2), np.round(biweekly_profit[-1]/target_profit[-1]*100,2)   ),\n",
    "                     'Monthly Sentiment MA ({})- ${} ({}%)'.format(np.round(best_threshold_monthly,4),np.round(monthly_profit[-1],2), np.round(monthly_profit[-1]/target_profit[-1]*100,2)   )])\n",
    "    #plt.grid()\n",
    "    plt.show()"
   ]
  },
  {
   "cell_type": "code",
   "execution_count": 6,
   "metadata": {
    "ExecuteTime": {
     "end_time": "2019-08-25T06:37:15.927245Z",
     "start_time": "2019-08-25T06:37:15.888044Z"
    }
   },
   "outputs": [],
   "source": [
    "def model_profit_moving(df,min_date,max_date,max_max_date,threshold,graph_model_T_F,model_output):\n",
    "    \n",
    "    if threshold=='dynamic':\n",
    "        # Get Cumulative Profit for Generic Models       \n",
    "        thresholds,senti_change_daily,senti_change_weekly,senti_change_2wk,senti_change_monthly = best_threshold2(df,0,0.3,0.002,min_date,max_date)\n",
    "        best_threshold_daily = thresholds[np.argmax(senti_change_daily)]\n",
    "        best_threshold_weekly = thresholds[np.argmax(senti_change_weekly)]\n",
    "        best_threshold_biweekly = thresholds[np.argmax(senti_change_2wk)]\n",
    "        best_threshold_monthly = thresholds[np.argmax(senti_change_monthly)]\n",
    "\n",
    "        mask = ((df['date']>max_date)&(df['date']<max_max_date))\n",
    "        df = df[mask]\n",
    "        df['daily_buy_sell'] = df['wkly_sentiment_change'].apply(lambda x: 1 if x>best_threshold_daily else 0).copy()\n",
    "        df['daily_profit'] = (df['daily_buy_sell']*100*df['target_daily']).copy()\n",
    "        df['weekly_buy_sell'] = df['wkly_sentiment_change'].apply(lambda x: 1 if x>best_threshold_weekly else 0).copy()\n",
    "        df['weekly_profit'] = (df['weekly_buy_sell']*100*df['target_daily']).copy()\n",
    "        df['biweekly_buy_sell'] = df['2wk_sentiment_change'].apply(lambda x: 1 if x>best_threshold_biweekly else 0).copy()\n",
    "        df['biweekly_profit'] = (df['biweekly_buy_sell']*100*df['target_daily']).copy()\n",
    "        df['monthly_buy_sell'] = df['4wk_sentiment_change'].apply(lambda x: 1 if x>best_threshold_monthly else 0).copy()\n",
    "        df['monthly_profit'] = (df['monthly_buy_sell']*100*df['target_daily']).copy()\n",
    "        df.dropna(inplace=True)\n",
    "    else :\n",
    "        # Get Cumulative Profit for Generic Models       \n",
    "        best_threshold_daily = threshold\n",
    "        best_threshold_weekly = threshold\n",
    "        best_threshold_biweekly = threshold\n",
    "        best_threshold_monthly = threshold\n",
    "\n",
    "        \n",
    "        mask = ((df['date']>max_date)&(df['date']<max_max_date))\n",
    "        df = df[mask]\n",
    "        df['daily_buy_sell'] = df['wkly_sentiment_change'].apply(lambda x: 1 if x>best_threshold_daily else 0).copy()\n",
    "        df['daily_profit'] = (df['daily_buy_sell']*100*df['target_daily']).copy()\n",
    "        df['weekly_buy_sell'] = df['wkly_sentiment_change'].apply(lambda x: 1 if x>best_threshold_weekly else 0).copy()\n",
    "        df['weekly_profit'] = (df['weekly_buy_sell']*100*df['target_daily']).copy()\n",
    "        df['biweekly_buy_sell'] = df['2wk_sentiment_change'].apply(lambda x: 1 if x>best_threshold_biweekly else 0).copy()\n",
    "        df['biweekly_profit'] = (df['biweekly_buy_sell']*100*df['target_daily']).copy()\n",
    "        df['monthly_buy_sell'] = df['4wk_sentiment_change'].apply(lambda x: 1 if x>best_threshold_monthly else 0).copy()\n",
    "        df['monthly_profit'] = (df['monthly_buy_sell']*100*df['target_daily']).copy()        \n",
    "\n",
    "        \n",
    "    daily_profit = list(df['daily_profit'])\n",
    "    for i in range(1,len(daily_profit)):\n",
    "        daily_profit[i] = daily_profit[i]+daily_profit[i-1] \n",
    "    weekly_profit = list(df['weekly_profit'])\n",
    "    for i in range(1,len(weekly_profit)):\n",
    "        weekly_profit[i] = weekly_profit[i]+weekly_profit[i-1]        \n",
    "    biweekly_profit = list(df['biweekly_profit'])\n",
    "    for i in range(1,len(biweekly_profit)):\n",
    "        biweekly_profit[i] = biweekly_profit[i]+biweekly_profit[i-1]        \n",
    "    monthly_profit = list(df['monthly_profit'])\n",
    "    for i in range(1,len(monthly_profit)):\n",
    "        monthly_profit[i] = monthly_profit[i]+monthly_profit[i-1]\n",
    "\n",
    "        \n",
    "            \n",
    "    # Get ideal profit for the same day if you bought $100 worth of bitcoin in one day and sold it exactly day after\n",
    "    df['target_daily_profit'] = df['target_daily'].apply(lambda x: 100*x if x>0 else 0)  \n",
    "    # Gain cumulative profit\n",
    "    target_profit = list(df['target_daily_profit'])\n",
    "    for i in range(1,len(target_profit)):\n",
    "        target_profit[i] = (target_profit[i]+target_profit[i-1])\n",
    "\n",
    "    if graph_model_T_F==True:        \n",
    "        # Get Cumulative Profit for LightGBM\n",
    "        df['pred'] = model_output   \n",
    "        pred_profit = []\n",
    "        for i in range(len(df['pred'])):\n",
    "            if (df['pred'].iloc[i]>0):\n",
    "                pred_profit.append(df['target_daily'].iloc[i]*100)\n",
    "            else:\n",
    "                pred_profit.append(0) \n",
    "        \n",
    "        target_profit = list(df['target_daily_profit'])\n",
    "        for i in range(1,len(target_profit)):\n",
    "            target_profit[i] = (target_profit[i]+target_profit[i-1])\n",
    "            pred_profit[i] = (pred_profit[i]+pred_profit[i-1])       \n",
    "\n",
    "    if graph_model_T_F==True: \n",
    "        print(\"Model Profit : ${}\".format(np.round(pred_profit[-1],2) ))\n",
    "\n",
    "    return (max_date,max_max_date), np.round(target_profit[-1],2),np.round(daily_profit[-1],2),np.round(weekly_profit[-1],2),np.round(biweekly_profit[-1],2),np.round(monthly_profit[-1],2),np.round(pred_profit[-1],2)\n"
   ]
  },
  {
   "cell_type": "markdown",
   "metadata": {},
   "source": [
    "#  LSTM"
   ]
  },
  {
   "cell_type": "code",
   "execution_count": 7,
   "metadata": {
    "ExecuteTime": {
     "end_time": "2019-08-24T06:40:39.636890Z",
     "start_time": "2019-08-24T06:40:39.630468Z"
    }
   },
   "outputs": [
    {
     "name": "stderr",
     "output_type": "stream",
     "text": [
      "Using TensorFlow backend.\n"
     ]
    }
   ],
   "source": [
    "from keras.layers import LSTM, Dropout, Dense, TimeDistributed, BatchNormalization, Activation, Bidirectional\n",
    "from keras.models import Sequential\n",
    "import tensorflow as tf\n",
    "\n",
    "from keras import optimizers\n",
    "from keras.callbacks import ModelCheckpoint, EarlyStopping, ReduceLROnPlateau, CSVLogger\n",
    "import logging\n",
    "from sklearn.metrics import mean_squared_error"
   ]
  },
  {
   "cell_type": "markdown",
   "metadata": {
    "heading_collapsed": true
   },
   "source": [
    "#### Fucntions"
   ]
  },
  {
   "cell_type": "code",
   "execution_count": 294,
   "metadata": {
    "hidden": true
   },
   "outputs": [],
   "source": [
    "def custom_train_test_split(df, train_cols,date_gap, min_date,max_date,max_max_date):\n",
    "    from sklearn.preprocessing import MinMaxScaler, RobustScaler, StandardScaler\n",
    "\n",
    "    # 2018.6 Market stabilized \n",
    "    min_date = min_date\n",
    "    max_date = max_date\n",
    "    max_max_date = max_max_date\n",
    "    \n",
    "    mask_train = ((df['date']>min_date)  & (df['date']<(max_date- timedelta(days=date_gap))))\n",
    "    mask_test = ((df['date'] > max_date) & (df['date'] < max_max_date))\n",
    "\n",
    "    df_train = df[mask_train]\n",
    "    df_test  = df[mask_test]\n",
    "\n",
    "    print(\"Train and Test size\", len(df_train), len(df_test))\n",
    "    # scale the feature MinMax, build array\n",
    "    x = df_train.loc[:,train_cols].values\n",
    "    scaler = MinMaxScaler()\n",
    "    x_train = scaler.fit_transform(x)\n",
    "    x_test = scaler.transform(df_test.loc[:,train_cols]) \n",
    "    return x_train, x_test, scaler\n",
    "\n",
    "# TIME_STEPS is how many units back in time you want your network to see\n",
    "def build_timeseries(mat,TIME_STEPS, y_col_index):\n",
    "    # y_col_index is the index of column that would act as output column\n",
    "    # total number of time-series samples would be len(mat) - TIME_STEPS\n",
    "    dim_0 = mat.shape[0] - TIME_STEPS\n",
    "    dim_1 = mat.shape[1]\n",
    "    x = np.zeros((dim_0, TIME_STEPS, dim_1))\n",
    "    y = np.zeros((dim_0,))\n",
    "    \n",
    "    for i in tqdm_notebook(range(dim_0)):\n",
    "        x[i] = mat[i:TIME_STEPS+i]\n",
    "        y[i] = mat[TIME_STEPS+i, y_col_index]\n",
    "    print(\"length of time-series i/o\",x.shape,y.shape)\n",
    "    return x, y\n",
    "\n",
    "# Small batch_size increase train time and too big batch size reduce model's ability to generalize, but quicker\n",
    "def trim_dataset(mat, batch_size):\n",
    "    \"\"\"\n",
    "    trims dataset to a size that's divisible by BATCH_SIZE\n",
    "    \"\"\"\n",
    "    no_of_rows_drop = mat.shape[0]%batch_size\n",
    "    if(no_of_rows_drop > 0):\n",
    "        return mat[:-no_of_rows_drop]\n",
    "    else:\n",
    "        return mat\n",
    "# Use of return_sequences : https://machinelearningmastery.com/return-sequences-and-return-states-for-lstms-in-keras/\n",
    "def create_model(lr):\n",
    "    lstm_model = Sequential()\n",
    "    # (batch_size, timesteps, data_dim)\n",
    "    lstm_model.add(LSTM(128, batch_input_shape=(BATCH_SIZE, TIME_STEPS, x_t.shape[2]),\n",
    "                        dropout=0.0, recurrent_dropout=0.0, stateful=True, #return_sequences=True,\n",
    "                        kernel_initializer='random_uniform'))\n",
    "    lstm_model.add(Dropout(0.4))\n",
    "#     lstm_model.add(LSTM(60, dropout=0.0))\n",
    "#     lstm_model.add(Dropout(0.2))\n",
    "    lstm_model.add(Dense(16,activation='relu'))\n",
    "    lstm_model.add(Dense(1,activation='sigmoid'))\n",
    "    optimizer = optimizers.RMSprop(lr=lr)\n",
    "    #optimizer = optimizers.SGD(lr=0.000001, decay=1e-6, momentum=0.9, nesterov=True)\n",
    "    lstm_model.compile(loss='mean_squared_error', optimizer=optimizer)\n",
    "    return lstm_model"
   ]
  },
  {
   "cell_type": "markdown",
   "metadata": {},
   "source": [
    "#### Test"
   ]
  },
  {
   "cell_type": "code",
   "execution_count": 296,
   "metadata": {
    "scrolled": true
   },
   "outputs": [
    {
     "name": "stdout",
     "output_type": "stream",
     "text": [
      "Train and Test size 845 175\n"
     ]
    },
    {
     "data": {
      "application/vnd.jupyter.widget-view+json": {
       "model_id": "0ad131b202514e04a812c41b1587202e",
       "version_major": 2,
       "version_minor": 0
      },
      "text/plain": [
       "HBox(children=(IntProgress(value=0, max=817), HTML(value='')))"
      ]
     },
     "metadata": {},
     "output_type": "display_data"
    },
    {
     "name": "stdout",
     "output_type": "stream",
     "text": [
      "\n",
      "length of time-series i/o (817, 28, 12) (817,)\n"
     ]
    },
    {
     "data": {
      "application/vnd.jupyter.widget-view+json": {
       "model_id": "dc16cdd4f6c7406994d14c705e01b0e8",
       "version_major": 2,
       "version_minor": 0
      },
      "text/plain": [
       "HBox(children=(IntProgress(value=0, max=147), HTML(value='')))"
      ]
     },
     "metadata": {},
     "output_type": "display_data"
    },
    {
     "name": "stdout",
     "output_type": "stream",
     "text": [
      "\n",
      "length of time-series i/o (147, 28, 12) (147,)\n",
      "Train on 816 samples, validate on 72 samples\n",
      "Epoch 1/200\n",
      " - 12s - loss: 0.0658 - val_loss: 0.0248\n",
      "Epoch 2/200\n",
      " - 1s - loss: 0.0124 - val_loss: 0.0248\n",
      "Epoch 3/200\n",
      " - 1s - loss: 0.0069 - val_loss: 0.0127\n",
      "Epoch 4/200\n",
      " - 1s - loss: 0.0054 - val_loss: 0.0093\n",
      "Epoch 5/200\n",
      " - 1s - loss: 0.0045 - val_loss: 0.0054\n",
      "Epoch 6/200\n",
      " - 1s - loss: 0.0041 - val_loss: 0.0039\n",
      "Epoch 7/200\n",
      " - 1s - loss: 0.0038 - val_loss: 0.0054\n",
      "Epoch 8/200\n",
      " - 1s - loss: 0.0034 - val_loss: 0.0050\n",
      "Epoch 9/200\n",
      " - 1s - loss: 0.0030 - val_loss: 0.0036\n",
      "Epoch 10/200\n",
      " - 1s - loss: 0.0028 - val_loss: 0.0036\n",
      "Epoch 11/200\n",
      " - 1s - loss: 0.0027 - val_loss: 0.0040\n",
      "Epoch 12/200\n",
      " - 1s - loss: 0.0025 - val_loss: 0.0036\n",
      "Epoch 13/200\n",
      " - 1s - loss: 0.0024 - val_loss: 0.0036\n",
      "Epoch 14/200\n",
      " - 1s - loss: 0.0022 - val_loss: 0.0041\n",
      "Epoch 15/200\n",
      " - 1s - loss: 0.0020 - val_loss: 0.0020\n",
      "Epoch 16/200\n",
      " - 1s - loss: 0.0021 - val_loss: 0.0027\n",
      "Epoch 17/200\n",
      " - 1s - loss: 0.0021 - val_loss: 0.0022\n",
      "Epoch 18/200\n",
      " - 1s - loss: 0.0019 - val_loss: 0.0023\n",
      "Epoch 19/200\n",
      " - 1s - loss: 0.0018 - val_loss: 0.0037\n",
      "Epoch 20/200\n",
      " - 1s - loss: 0.0018 - val_loss: 0.0014\n",
      "Epoch 21/200\n",
      " - 1s - loss: 0.0018 - val_loss: 0.0023\n",
      "Epoch 22/200\n",
      " - 1s - loss: 0.0018 - val_loss: 0.0017\n",
      "Epoch 23/200\n",
      " - 1s - loss: 0.0017 - val_loss: 8.5101e-04\n",
      "Epoch 24/200\n",
      " - 1s - loss: 0.0017 - val_loss: 0.0024\n",
      "Epoch 25/200\n",
      " - 1s - loss: 0.0016 - val_loss: 0.0011\n",
      "Epoch 26/200\n",
      " - 1s - loss: 0.0017 - val_loss: 0.0013\n",
      "Epoch 27/200\n",
      " - 1s - loss: 0.0017 - val_loss: 0.0012\n",
      "Epoch 28/200\n",
      " - 1s - loss: 0.0017 - val_loss: 0.0013\n",
      "Epoch 29/200\n",
      " - 1s - loss: 0.0016 - val_loss: 0.0014\n",
      "Epoch 30/200\n",
      " - 1s - loss: 0.0016 - val_loss: 0.0026\n",
      "Epoch 31/200\n",
      " - 1s - loss: 0.0016 - val_loss: 0.0016\n",
      "Epoch 32/200\n",
      " - 1s - loss: 0.0015 - val_loss: 7.2173e-04\n",
      "Epoch 33/200\n",
      " - 1s - loss: 0.0017 - val_loss: 0.0011\n",
      "Epoch 34/200\n",
      " - 1s - loss: 0.0016 - val_loss: 7.4657e-04\n",
      "Epoch 35/200\n",
      " - 1s - loss: 0.0015 - val_loss: 8.7866e-04\n",
      "Epoch 36/200\n",
      " - 1s - loss: 0.0015 - val_loss: 0.0014\n",
      "Epoch 37/200\n",
      " - 1s - loss: 0.0014 - val_loss: 7.4208e-04\n",
      "Epoch 38/200\n",
      " - 1s - loss: 0.0016 - val_loss: 7.5967e-04\n",
      "Epoch 39/200\n",
      " - 1s - loss: 0.0014 - val_loss: 0.0012\n",
      "Epoch 40/200\n",
      " - 1s - loss: 0.0014 - val_loss: 8.5117e-04\n",
      "Epoch 41/200\n",
      " - 1s - loss: 0.0014 - val_loss: 7.5344e-04\n",
      "Epoch 42/200\n",
      " - 1s - loss: 0.0015 - val_loss: 8.5546e-04\n",
      "Epoch 43/200\n",
      " - 1s - loss: 0.0014 - val_loss: 9.2906e-04\n",
      "Epoch 44/200\n",
      " - 1s - loss: 0.0014 - val_loss: 8.8704e-04\n",
      "Epoch 45/200\n",
      " - 1s - loss: 0.0015 - val_loss: 8.2712e-04\n",
      "Epoch 46/200\n",
      " - 1s - loss: 0.0014 - val_loss: 8.3705e-04\n",
      "Epoch 47/200\n",
      " - 1s - loss: 0.0012 - val_loss: 8.8902e-04\n"
     ]
    }
   ],
   "source": [
    "# Parameters for train/test split\n",
    "min_date = date(2014,6,1)\n",
    "max_date = date(2019,3,1)\n",
    "date_gap = 8\n",
    "max_max_date = date(2020,1,1)\n",
    "train_cols = [\n",
    "              'final_sentiment','open','high', 'low', 'close', 'volume','market_cap',\n",
    "             'percent_change_volume','percent_change_daily_close','daily_sentiment_change',\n",
    "              'percent_change_wkly_close','wkly_sentiment_change'\n",
    "             ]\n",
    "x_train, x_test, scaler = custom_train_test_split(df_daily,train_cols,date_gap, min_date,max_date,max_max_date )\n",
    "\n",
    "# Parameters for processing data for LSTM input\n",
    "BATCH_SIZE = 8 # Small batch_size increase train time and too big batch size reduce model's ability to generalize, but quicker\n",
    "TIME_STEPS = 28 # how far it looks back\n",
    "y_col_index = np.where(np.array(train_cols) == 'close')[0][0]\n",
    "\n",
    "x_t, y_t = build_timeseries(x_train, TIME_STEPS, y_col_index)\n",
    "x_t = trim_dataset(x_t, BATCH_SIZE)\n",
    "y_t = trim_dataset(y_t, BATCH_SIZE)\n",
    "x_temp, y_temp = build_timeseries(x_test,TIME_STEPS, y_col_index)\n",
    "x_val, x_test_t = np.split(trim_dataset(x_temp, BATCH_SIZE),2)\n",
    "y_val, y_test_t = np.split(trim_dataset(y_temp, BATCH_SIZE),2)\n",
    "\n",
    "# Start LSTM Model & Train\n",
    "lstm_model = create_model(0.0001)\n",
    "early_stopping = EarlyStopping(monitor='val_loss', patience=15, verbose=0, mode='auto',restore_best_weights=True)\n",
    "callbacks_list = [early_stopping]\n",
    "\n",
    "history = lstm_model.fit(x_t, y_t, epochs=200, verbose=2, batch_size=BATCH_SIZE,\n",
    "                    shuffle=False, validation_data=(trim_dataset(x_val, BATCH_SIZE),\n",
    "                    trim_dataset(y_val, BATCH_SIZE)), callbacks=callbacks_list)"
   ]
  },
  {
   "cell_type": "code",
   "execution_count": 297,
   "metadata": {},
   "outputs": [
    {
     "data": {
      "text/plain": [
       "<matplotlib.legend.Legend at 0x1dd0f1fec48>"
      ]
     },
     "execution_count": 297,
     "metadata": {},
     "output_type": "execute_result"
    },
    {
     "data": {
      "image/png": "[encoded data removed]",
      "text/plain": [
       "<Figure size 432x288 with 1 Axes>"
      ]
     },
     "metadata": {
      "needs_background": "light"
     },
     "output_type": "display_data"
    },
    {
     "data": {
      "image/png": "[encoded data removed]",
      "text/plain": [
       "<Figure size 432x288 with 1 Axes>"
      ]
     },
     "metadata": {
      "needs_background": "light"
     },
     "output_type": "display_data"
    }
   ],
   "source": [
    "# Visualize the training data\n",
    "from matplotlib import pyplot as plt\n",
    "plt.figure()\n",
    "plt.plot(history.history['loss'])\n",
    "plt.plot(history.history['val_loss'])\n",
    "plt.title('Model loss')\n",
    "plt.ylabel('Loss')\n",
    "plt.xlabel('Epoch')\n",
    "plt.legend(['Train', 'Test'], loc='upper left')\n",
    "#plt.show()\n",
    "#plt.savefig(os.path.join(git_folder_location, 'train_vis_BS_'+str(BATCH_SIZE)+\"_\"+time.ctime()+'.png'))\n",
    "\n",
    "# load the saved best model from above\n",
    "# saved_model = load_model(os.path.join(git_folder_location, 'best_model.h5')) # , \"lstm_best_7-3-19_12AM\",\n",
    "# print(saved_model)\n",
    "\n",
    "y_pred = lstm_model.predict(trim_dataset(x_test_t, BATCH_SIZE), batch_size=BATCH_SIZE)\n",
    "y_pred = y_pred.flatten()\n",
    "y_test_t = trim_dataset(y_test_t, BATCH_SIZE)\n",
    "# error = mean_squared_error(y_test_t, y_pred)\n",
    "# print(\"Error is\", error, y_pred.shape, y_test_t.shape)\n",
    "# print(y_pred[0:15])\n",
    "# print(y_test_t[0:15])\n",
    "y_pred_org = (y_pred * scaler.data_range_[3]) + scaler.data_min_[3] # scaler.inverse_transform(y_pred)\n",
    "y_test_t_org = (y_test_t * scaler.data_range_[3]) + scaler.data_min_[3] # scaler.inverse_transform(y_test_t)\n",
    "# print(y_pred_org[0:15])\n",
    "# print(y_test_t_org[0:15])\n",
    "\n",
    "# Visualize the prediction\n",
    "from matplotlib import pyplot as plt\n",
    "plt.figure()\n",
    "plt.plot(y_pred_org)\n",
    "plt.plot(y_test_t_org)\n",
    "plt.title('Prediction vs Real Stock Price')\n",
    "plt.ylabel('Price')\n",
    "plt.xlabel('Days')\n",
    "plt.legend(['Prediction', 'Real'], loc='upper left')\n",
    "#plt.show()\n",
    "#plt.savefig(os.path.join(git_folder_location, 'pred_vs_real_BS'+str(BATCH_SIZE)+\"_\"+time.ctime()+'.png'))\n",
    "#print_time(\"program completed \", stime)\n",
    "# No sentiment"
   ]
  }
 ],
 "metadata": {
  "kernelspec": {
   "display_name": "Python 3",
   "language": "python",
   "name": "python3"
  },
  "language_info": {
   "codemirror_mode": {
    "name": "ipython",
    "version": 3
   },
   "file_extension": ".py",
   "mimetype": "text/x-python",
   "name": "python",
   "nbconvert_exporter": "python",
   "pygments_lexer": "ipython3",
   "version": "3.7.4"
  },
  "toc": {
   "base_numbering": 1,
   "nav_menu": {},
   "number_sections": true,
   "sideBar": true,
   "skip_h1_title": false,
   "title_cell": "Table of Contents",
   "title_sidebar": "Contents",
   "toc_cell": false,
   "toc_position": {},
   "toc_section_display": true,
   "toc_window_display": false
  }
 },
 "nbformat": 4,
 "nbformat_minor": 2
}
