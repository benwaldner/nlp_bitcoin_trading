{
 "cells": [
  {
   "cell_type": "code",
   "execution_count": 2,
   "metadata": {},
   "outputs": [],
   "source": [
    "import urllib.request, json \n",
    "import pandas as pd\n",
    "import numpy as np\n",
    "import requests\n",
    "#import pandas_profiling"
   ]
  },
  {
   "cell_type": "markdown",
   "metadata": {},
   "source": [
    "* /reddit/comment/search\n",
    "* /reddit/submission/search\n",
    "* /reddit/subreddit/search"
   ]
  },
  {
   "cell_type": "code",
   "execution_count": 4,
   "metadata": {},
   "outputs": [],
   "source": [
    "\n",
    "# Collection DATA with Pushshift API\n",
    "\n",
    "with urllib.request.urlopen(\"https://api.pushshift.io/reddit/comment/search/?subreddit=bitcoin&after=1546318800&before=1564631940&sort_type=score&sort=desc&size=1000\") as url:\n",
    "    df_comment = pd.DataFrame(data = json.loads(url.read().decode())['data'])\n",
    "\n",
    "with urllib.request.urlopen(\"https://api.pushshift.io/reddit/submission/search/?subreddit=bitcoin&after=1546318800&before=1564631940&sort_type=score&sort=desc&size=1000\") as url:\n",
    "    df = pd.DataFrame(data = json.loads(url.read().decode())['data'])\n",
    "\n"
   ]
  },
  {
   "cell_type": "code",
   "execution_count": 6,
   "metadata": {
    "scrolled": false
   },
   "outputs": [
    {
     "data": {
      "text/plain": [
       "Index(['all_awardings', 'author', 'author_cakeday',\n",
       "       'author_flair_background_color', 'author_flair_css_class',\n",
       "       'author_flair_richtext', 'author_flair_template_id',\n",
       "       'author_flair_text', 'author_flair_text_color', 'author_flair_type',\n",
       "       'author_fullname', 'author_patreon_flair', 'body', 'created_utc',\n",
       "       'gilded', 'gildings', 'id', 'is_submitter', 'link_id', 'locked',\n",
       "       'no_follow', 'parent_id', 'permalink', 'retrieved_on', 'score',\n",
       "       'send_replies', 'stickied', 'subreddit', 'subreddit_id',\n",
       "       'total_awards_received', 'updated_utc'],\n",
       "      dtype='object')"
      ]
     },
     "execution_count": 6,
     "metadata": {},
     "output_type": "execute_result"
    }
   ],
   "source": [
    "df.columns # author, created_utc, score, body, subreddit"
   ]
  },
  {
   "cell_type": "code",
   "execution_count": 8,
   "metadata": {},
   "outputs": [],
   "source": [
    "def get_data(after, before):\n",
    "    url = 'https://api.pushshift.io/reddit/comment/search/?size=1000&after='+str(after)+'&before='+str(before)+'&subreddit=bitcoin'\n",
    "    with urllib.request.urlopen(url) as url:\n",
    "        df = pd.DataFrame(data = json.loads(url.read().decode())['data'])[['created_utc','author','score','body','subreddit']]\n",
    "    return df"
   ]
  },
  {
   "cell_type": "markdown",
   "metadata": {},
   "source": [
    "\n",
    "Use to convert time: https://www.unixtimestamp.com/index.php\n",
    "\n",
    "Jan\n",
    "- After(1/1/2019) 1546300800\n",
    "- Before(1/31/2019) 1548935999\n",
    "\n",
    "Feb\n",
    "- After(2/1/2019) 1548979200\n",
    "- Before(2/28/2019) 1551398399\n",
    "\n",
    "Mar\n",
    "- After(3/1/2019) 1551398400\n",
    "- Before(3/31/2019) 1554076799\n",
    "\n",
    "Apr\n",
    "- After(4/1/2019) 1554076800\n",
    "- Before(4/30/2019) 1556668799\n",
    "\n",
    "May\n",
    "- After(5/1/2019) 1556668800\n",
    "- Before(5/31/2019) 1559347199\n",
    "\n",
    "June\n",
    "- After(5/1/2019) 1559347200\n",
    "- Before(5/31/2019) 1561939199\n",
    "\n"
   ]
  },
  {
   "cell_type": "code",
   "execution_count": 16,
   "metadata": {},
   "outputs": [
    {
     "ename": "ImportError",
     "evalue": "cannot import name 'timestamp' from 'datetime' (/Users/matthewlee/anaconda3/envs/metis/lib/python3.7/datetime.py)",
     "output_type": "error",
     "traceback": [
      "\u001b[0;31m---------------------------------------------------------------------------\u001b[0m",
      "\u001b[0;31mImportError\u001b[0m                               Traceback (most recent call last)",
      "\u001b[0;32m<ipython-input-16-d147d611fade>\u001b[0m in \u001b[0;36m<module>\u001b[0;34m\u001b[0m\n\u001b[0;32m----> 1\u001b[0;31m \u001b[0;32mfrom\u001b[0m \u001b[0mdatetime\u001b[0m \u001b[0;32mimport\u001b[0m \u001b[0mdate\u001b[0m\u001b[0;34m,\u001b[0m\u001b[0mtimedelta\u001b[0m\u001b[0;34m,\u001b[0m\u001b[0mdatetime\u001b[0m\u001b[0;34m,\u001b[0m\u001b[0mtimestamp\u001b[0m\u001b[0;34m\u001b[0m\u001b[0;34m\u001b[0m\u001b[0m\n\u001b[0m",
      "\u001b[0;31mImportError\u001b[0m: cannot import name 'timestamp' from 'datetime' (/Users/matthewlee/anaconda3/envs/metis/lib/python3.7/datetime.py)"
     ]
    }
   ],
   "source": [
    "from datetime import date,timedelta,datetime,timestamp"
   ]
  },
  {
   "cell_type": "code",
   "execution_count": 35,
   "metadata": {},
   "outputs": [
    {
     "data": {
      "text/plain": [
       "1546318800"
      ]
     },
     "execution_count": 35,
     "metadata": {},
     "output_type": "execute_result"
    }
   ],
   "source": [
    "import time\n",
    "\n",
    "int(time.mktime(date(2019, 1, 1).timetuple()))"
   ]
  },
  {
   "cell_type": "code",
   "execution_count": 17,
   "metadata": {
    "scrolled": true
   },
   "outputs": [
    {
     "ename": "TypeError",
     "evalue": "descriptor 'timestamp' requires a 'datetime.datetime' object but received a 'datetime.date'",
     "output_type": "error",
     "traceback": [
      "\u001b[0;31m---------------------------------------------------------------------------\u001b[0m",
      "\u001b[0;31mTypeError\u001b[0m                                 Traceback (most recent call last)",
      "\u001b[0;32m<ipython-input-17-b01a6a3ffe72>\u001b[0m in \u001b[0;36m<module>\u001b[0;34m\u001b[0m\n\u001b[0;32m----> 1\u001b[0;31m \u001b[0mdatetime\u001b[0m\u001b[0;34m.\u001b[0m\u001b[0mtimestamp\u001b[0m\u001b[0;34m(\u001b[0m\u001b[0mdate\u001b[0m\u001b[0;34m(\u001b[0m\u001b[0;36m2019\u001b[0m\u001b[0;34m,\u001b[0m \u001b[0;36m1\u001b[0m\u001b[0;34m,\u001b[0m \u001b[0;36m1\u001b[0m\u001b[0;34m)\u001b[0m\u001b[0;34m)\u001b[0m\u001b[0;34m\u001b[0m\u001b[0;34m\u001b[0m\u001b[0m\n\u001b[0m",
      "\u001b[0;31mTypeError\u001b[0m: descriptor 'timestamp' requires a 'datetime.datetime' object but received a 'datetime.date'"
     ]
    }
   ],
   "source": [
    "\n",
    "datetime.timestamp(date(2019, 1, 1))"
   ]
  },
  {
   "cell_type": "code",
   "execution_count": 14,
   "metadata": {},
   "outputs": [
    {
     "data": {
      "text/plain": [
       "20190101"
      ]
     },
     "execution_count": 14,
     "metadata": {},
     "output_type": "execute_result"
    }
   ],
   "source": [
    "def to_integer(dt_time):\n",
    "    return 10000*dt_time.year + 100*dt_time.month + dt_time.day\n",
    "\n",
    "date(2019, 1, 1)\n",
    "end_date = date(2019, 8, 8)\n",
    "to_integer(begin_date)"
   ]
  },
  {
   "cell_type": "code",
   "execution_count": null,
   "metadata": {},
   "outputs": [],
   "source": [
    "df = get_data(1559347200, 1561939199)\n",
    "# Will run until all posts have been gathered \n",
    "# from the 'after' date up until before date\n",
    "while len(df) > 0:\n",
    "    # Calls get_data() with the created date of the last submission\n",
    "    try:\n",
    "        after = df['created_utc'].tail(1).item()\n",
    "        df = df.append(get_data(after, 1561939199), ignore_index=True)\n",
    "    except KeyError:\n",
    "        break\n",
    "        \n",
    "print(len(df))"
   ]
  },
  {
   "cell_type": "code",
   "execution_count": null,
   "metadata": {},
   "outputs": [],
   "source": []
  }
 ],
 "metadata": {
  "kernelspec": {
   "display_name": "Python 3",
   "language": "python",
   "name": "python3"
  },
  "language_info": {
   "codemirror_mode": {
    "name": "ipython",
    "version": 3
   },
   "file_extension": ".py",
   "mimetype": "text/x-python",
   "name": "python",
   "nbconvert_exporter": "python",
   "pygments_lexer": "ipython3",
   "version": "3.7.3"
  }
 },
 "nbformat": 4,
 "nbformat_minor": 2
}
